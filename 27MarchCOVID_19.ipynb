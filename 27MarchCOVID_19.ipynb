{
  "nbformat": 4,
  "nbformat_minor": 0,
  "metadata": {
    "colab": {
      "name": "27MarchCOVID-19.ipynb",
      "provenance": [],
      "collapsed_sections": []
    },
    "kernelspec": {
      "name": "python3",
      "display_name": "Python 3"
    }
  },
  "cells": [
    {
      "cell_type": "code",
      "metadata": {
        "id": "Cj-Hi44khApA",
        "colab_type": "code",
        "colab": {}
      },
      "source": [
        "import pandas as pd\n",
        "import numpy\n",
        "import matplotlib.pyplot as plt\n",
        "import matplotlib\n",
        "matplotlib.rcParams['axes.labelsize'] = 14\n",
        "matplotlib.rcParams['xtick.labelsize'] = 12\n",
        "matplotlib.rcParams['ytick.labelsize'] = 12\n",
        "matplotlib.rcParams['text.color'] = 'k'\n",
        "from statsmodels.tsa.ar_model import AR\n",
        "from statsmodels.tsa.arima_model import ARMA\n",
        "import statsmodels.api as sm\n",
        "import plotly.graph_objects as go\n",
        "import plotly.express as px\n",
        "import plotly.io as pio\n",
        "pio.templates.default = \"plotly_dark\"\n",
        "from plotly.subplots import make_subplots\n",
        "from matplotlib import pyplot\n",
        "from sklearn.metrics import mean_squared_error\n",
        "from sklearn.model_selection import train_test_split\n",
        "from sklearn import linear_model\n",
        "import xgboost as xgb\n",
        "from sklearn.model_selection import train_test_split"
      ],
      "execution_count": 0,
      "outputs": []
    },
    {
      "cell_type": "code",
      "metadata": {
        "id": "8d-Z6DmZpuZh",
        "colab_type": "code",
        "colab": {}
      },
      "source": [
        "df = pd.read_csv(\"/content/drive/My Drive/timeseries.csv\")"
      ],
      "execution_count": 0,
      "outputs": []
    },
    {
      "cell_type": "code",
      "metadata": {
        "id": "aISmwVXEpudf",
        "colab_type": "code",
        "outputId": "399b1d46-d0bb-4e62-9d9e-ad633b1ae3a2",
        "colab": {
          "base_uri": "https://localhost:8080/",
          "height": 204
        }
      },
      "source": [
        "df.head()"
      ],
      "execution_count": 1202,
      "outputs": [
        {
          "output_type": "execute_result",
          "data": {
            "text/html": [
              "<div>\n",
              "<style scoped>\n",
              "    .dataframe tbody tr th:only-of-type {\n",
              "        vertical-align: middle;\n",
              "    }\n",
              "\n",
              "    .dataframe tbody tr th {\n",
              "        vertical-align: top;\n",
              "    }\n",
              "\n",
              "    .dataframe thead th {\n",
              "        text-align: right;\n",
              "    }\n",
              "</style>\n",
              "<table border=\"1\" class=\"dataframe\">\n",
              "  <thead>\n",
              "    <tr style=\"text-align: right;\">\n",
              "      <th></th>\n",
              "      <th>people_ID</th>\n",
              "      <th>20-Mar-20</th>\n",
              "      <th>21-Mar-20</th>\n",
              "      <th>22-Mar-20</th>\n",
              "      <th>23-Mar-20</th>\n",
              "      <th>24-Mar-20</th>\n",
              "      <th>25-Mar-20</th>\n",
              "      <th>26-Mar-20</th>\n",
              "    </tr>\n",
              "  </thead>\n",
              "  <tbody>\n",
              "    <tr>\n",
              "      <th>0</th>\n",
              "      <td>1</td>\n",
              "      <td>441</td>\n",
              "      <td>544</td>\n",
              "      <td>670</td>\n",
              "      <td>821</td>\n",
              "      <td>1,002</td>\n",
              "      <td>1,216</td>\n",
              "      <td>1,473</td>\n",
              "    </tr>\n",
              "    <tr>\n",
              "      <th>1</th>\n",
              "      <td>2</td>\n",
              "      <td>151</td>\n",
              "      <td>197</td>\n",
              "      <td>253</td>\n",
              "      <td>322</td>\n",
              "      <td>400</td>\n",
              "      <td>493</td>\n",
              "      <td>607</td>\n",
              "    </tr>\n",
              "    <tr>\n",
              "      <th>2</th>\n",
              "      <td>3</td>\n",
              "      <td>416</td>\n",
              "      <td>515</td>\n",
              "      <td>632</td>\n",
              "      <td>777</td>\n",
              "      <td>948</td>\n",
              "      <td>1,150</td>\n",
              "      <td>1,396</td>\n",
              "    </tr>\n",
              "    <tr>\n",
              "      <th>3</th>\n",
              "      <td>4</td>\n",
              "      <td>410</td>\n",
              "      <td>506</td>\n",
              "      <td>621</td>\n",
              "      <td>762</td>\n",
              "      <td>928</td>\n",
              "      <td>1,127</td>\n",
              "      <td>1,368</td>\n",
              "    </tr>\n",
              "    <tr>\n",
              "      <th>4</th>\n",
              "      <td>5</td>\n",
              "      <td>390</td>\n",
              "      <td>483</td>\n",
              "      <td>595</td>\n",
              "      <td>730</td>\n",
              "      <td>893</td>\n",
              "      <td>1,084</td>\n",
              "      <td>1,316</td>\n",
              "    </tr>\n",
              "  </tbody>\n",
              "</table>\n",
              "</div>"
            ],
            "text/plain": [
              "   people_ID  20-Mar-20  21-Mar-20  ...  24-Mar-20  25-Mar-20 26-Mar-20\n",
              "0          1        441        544  ...     1,002      1,216     1,473 \n",
              "1          2        151        197  ...       400        493       607 \n",
              "2          3        416        515  ...       948      1,150     1,396 \n",
              "3          4        410        506  ...       928      1,127     1,368 \n",
              "4          5        390        483  ...       893      1,084     1,316 \n",
              "\n",
              "[5 rows x 8 columns]"
            ]
          },
          "metadata": {
            "tags": []
          },
          "execution_count": 1202
        }
      ]
    },
    {
      "cell_type": "code",
      "metadata": {
        "id": "9FbBLfPgZtLB",
        "colab_type": "code",
        "outputId": "24263181-8e86-4a44-9531-3f3d6d74e822",
        "colab": {
          "base_uri": "https://localhost:8080/",
          "height": 419
        }
      },
      "source": [
        "df"
      ],
      "execution_count": 1203,
      "outputs": [
        {
          "output_type": "execute_result",
          "data": {
            "text/html": [
              "<div>\n",
              "<style scoped>\n",
              "    .dataframe tbody tr th:only-of-type {\n",
              "        vertical-align: middle;\n",
              "    }\n",
              "\n",
              "    .dataframe tbody tr th {\n",
              "        vertical-align: top;\n",
              "    }\n",
              "\n",
              "    .dataframe thead th {\n",
              "        text-align: right;\n",
              "    }\n",
              "</style>\n",
              "<table border=\"1\" class=\"dataframe\">\n",
              "  <thead>\n",
              "    <tr style=\"text-align: right;\">\n",
              "      <th></th>\n",
              "      <th>people_ID</th>\n",
              "      <th>20-Mar-20</th>\n",
              "      <th>21-Mar-20</th>\n",
              "      <th>22-Mar-20</th>\n",
              "      <th>23-Mar-20</th>\n",
              "      <th>24-Mar-20</th>\n",
              "      <th>25-Mar-20</th>\n",
              "      <th>26-Mar-20</th>\n",
              "    </tr>\n",
              "  </thead>\n",
              "  <tbody>\n",
              "    <tr>\n",
              "      <th>0</th>\n",
              "      <td>1</td>\n",
              "      <td>441</td>\n",
              "      <td>544</td>\n",
              "      <td>670</td>\n",
              "      <td>821</td>\n",
              "      <td>1,002</td>\n",
              "      <td>1,216</td>\n",
              "      <td>1,473</td>\n",
              "    </tr>\n",
              "    <tr>\n",
              "      <th>1</th>\n",
              "      <td>2</td>\n",
              "      <td>151</td>\n",
              "      <td>197</td>\n",
              "      <td>253</td>\n",
              "      <td>322</td>\n",
              "      <td>400</td>\n",
              "      <td>493</td>\n",
              "      <td>607</td>\n",
              "    </tr>\n",
              "    <tr>\n",
              "      <th>2</th>\n",
              "      <td>3</td>\n",
              "      <td>416</td>\n",
              "      <td>515</td>\n",
              "      <td>632</td>\n",
              "      <td>777</td>\n",
              "      <td>948</td>\n",
              "      <td>1,150</td>\n",
              "      <td>1,396</td>\n",
              "    </tr>\n",
              "    <tr>\n",
              "      <th>3</th>\n",
              "      <td>4</td>\n",
              "      <td>410</td>\n",
              "      <td>506</td>\n",
              "      <td>621</td>\n",
              "      <td>762</td>\n",
              "      <td>928</td>\n",
              "      <td>1,127</td>\n",
              "      <td>1,368</td>\n",
              "    </tr>\n",
              "    <tr>\n",
              "      <th>4</th>\n",
              "      <td>5</td>\n",
              "      <td>390</td>\n",
              "      <td>483</td>\n",
              "      <td>595</td>\n",
              "      <td>730</td>\n",
              "      <td>893</td>\n",
              "      <td>1,084</td>\n",
              "      <td>1,316</td>\n",
              "    </tr>\n",
              "    <tr>\n",
              "      <th>...</th>\n",
              "      <td>...</td>\n",
              "      <td>...</td>\n",
              "      <td>...</td>\n",
              "      <td>...</td>\n",
              "      <td>...</td>\n",
              "      <td>...</td>\n",
              "      <td>...</td>\n",
              "      <td>...</td>\n",
              "    </tr>\n",
              "    <tr>\n",
              "      <th>10709</th>\n",
              "      <td>22691</td>\n",
              "      <td>134</td>\n",
              "      <td>174</td>\n",
              "      <td>225</td>\n",
              "      <td>288</td>\n",
              "      <td>359</td>\n",
              "      <td>444</td>\n",
              "      <td>549</td>\n",
              "    </tr>\n",
              "    <tr>\n",
              "      <th>10710</th>\n",
              "      <td>22692</td>\n",
              "      <td>387</td>\n",
              "      <td>479</td>\n",
              "      <td>592</td>\n",
              "      <td>725</td>\n",
              "      <td>885</td>\n",
              "      <td>1,075</td>\n",
              "      <td>1,303</td>\n",
              "    </tr>\n",
              "    <tr>\n",
              "      <th>10711</th>\n",
              "      <td>22693</td>\n",
              "      <td>177</td>\n",
              "      <td>228</td>\n",
              "      <td>288</td>\n",
              "      <td>362</td>\n",
              "      <td>448</td>\n",
              "      <td>551</td>\n",
              "      <td>677</td>\n",
              "    </tr>\n",
              "    <tr>\n",
              "      <th>10712</th>\n",
              "      <td>22694</td>\n",
              "      <td>352</td>\n",
              "      <td>438</td>\n",
              "      <td>543</td>\n",
              "      <td>666</td>\n",
              "      <td>815</td>\n",
              "      <td>991</td>\n",
              "      <td>1,204</td>\n",
              "    </tr>\n",
              "    <tr>\n",
              "      <th>10713</th>\n",
              "      <td>22695</td>\n",
              "      <td>181</td>\n",
              "      <td>230</td>\n",
              "      <td>290</td>\n",
              "      <td>366</td>\n",
              "      <td>455</td>\n",
              "      <td>559</td>\n",
              "      <td>687</td>\n",
              "    </tr>\n",
              "  </tbody>\n",
              "</table>\n",
              "<p>10714 rows × 8 columns</p>\n",
              "</div>"
            ],
            "text/plain": [
              "       people_ID  20-Mar-20  21-Mar-20  ...  24-Mar-20  25-Mar-20 26-Mar-20\n",
              "0              1        441        544  ...     1,002      1,216     1,473 \n",
              "1              2        151        197  ...       400        493       607 \n",
              "2              3        416        515  ...       948      1,150     1,396 \n",
              "3              4        410        506  ...       928      1,127     1,368 \n",
              "4              5        390        483  ...       893      1,084     1,316 \n",
              "...          ...        ...        ...  ...        ...        ...       ...\n",
              "10709      22691        134        174  ...       359        444       549 \n",
              "10710      22692        387        479  ...       885      1,075     1,303 \n",
              "10711      22693        177        228  ...       448        551       677 \n",
              "10712      22694        352        438  ...       815        991     1,204 \n",
              "10713      22695        181        230  ...       455        559       687 \n",
              "\n",
              "[10714 rows x 8 columns]"
            ]
          },
          "metadata": {
            "tags": []
          },
          "execution_count": 1203
        }
      ]
    },
    {
      "cell_type": "code",
      "metadata": {
        "id": "NVZuLsLr7UoU",
        "colab_type": "code",
        "colab": {}
      },
      "source": [
        "df['24-Mar-20'] = df['24-Mar-20'].str.replace(',', '')\n",
        "df['25-Mar-20'] = df['25-Mar-20'].str.replace(',', '')\n",
        "df['26-Mar-20'] = df['26-Mar-20'].str.replace(',', '')"
      ],
      "execution_count": 0,
      "outputs": []
    },
    {
      "cell_type": "code",
      "metadata": {
        "id": "05sg57wFpuhZ",
        "colab_type": "code",
        "colab": {}
      },
      "source": [
        "df['24-Mar-20'] = df['24-Mar-20'].astype(float)\n",
        "df['25-Mar-20'] = df['25-Mar-20'].astype(float)\n",
        "df['26-Mar-20'] = df['26-Mar-20'].astype(float)"
      ],
      "execution_count": 0,
      "outputs": []
    },
    {
      "cell_type": "code",
      "metadata": {
        "id": "7t75UcuepuYi",
        "colab_type": "code",
        "colab": {}
      },
      "source": [
        "data = df.transpose()"
      ],
      "execution_count": 0,
      "outputs": []
    },
    {
      "cell_type": "code",
      "metadata": {
        "id": "qJkqejX04c9w",
        "colab_type": "code",
        "colab": {}
      },
      "source": [
        "data = data.astype(int)"
      ],
      "execution_count": 0,
      "outputs": []
    },
    {
      "cell_type": "code",
      "metadata": {
        "id": "vQv204srEkVi",
        "colab_type": "code",
        "outputId": "6f578176-9b09-456f-e477-fa69fcc770c5",
        "colab": {
          "base_uri": "https://localhost:8080/",
          "height": 34
        }
      },
      "source": [
        "data.columns"
      ],
      "execution_count": 1208,
      "outputs": [
        {
          "output_type": "execute_result",
          "data": {
            "text/plain": [
              "RangeIndex(start=0, stop=10714, step=1)"
            ]
          },
          "metadata": {
            "tags": []
          },
          "execution_count": 1208
        }
      ]
    },
    {
      "cell_type": "code",
      "metadata": {
        "id": "OLYnrEcZN84_",
        "colab_type": "code",
        "colab": {}
      },
      "source": [
        "data.columns = data.columns.values.tolist()"
      ],
      "execution_count": 0,
      "outputs": []
    },
    {
      "cell_type": "code",
      "metadata": {
        "id": "Wt0NYm0kC38V",
        "colab_type": "code",
        "colab": {}
      },
      "source": [
        "data = numpy.array(data)"
      ],
      "execution_count": 0,
      "outputs": []
    },
    {
      "cell_type": "code",
      "metadata": {
        "id": "IBH_F8QP4dJT",
        "colab_type": "code",
        "outputId": "bd0cceb9-8000-48b8-885a-6a1de8a0ddbf",
        "colab": {
          "base_uri": "https://localhost:8080/",
          "height": 136
        }
      },
      "source": [
        "data"
      ],
      "execution_count": 1211,
      "outputs": [
        {
          "output_type": "execute_result",
          "data": {
            "text/plain": [
              "array([[    1,     2,     3, ..., 22693, 22694, 22695],\n",
              "       [  441,   151,   416, ...,   177,   352,   181],\n",
              "       [  544,   197,   515, ...,   228,   438,   230],\n",
              "       ...,\n",
              "       [ 1002,   400,   948, ...,   448,   815,   455],\n",
              "       [ 1216,   493,  1150, ...,   551,   991,   559],\n",
              "       [ 1473,   607,  1396, ...,   677,  1204,   687]])"
            ]
          },
          "metadata": {
            "tags": []
          },
          "execution_count": 1211
        }
      ]
    },
    {
      "cell_type": "code",
      "metadata": {
        "id": "3KRLX3BoV13p",
        "colab_type": "code",
        "colab": {}
      },
      "source": [
        "from statsmodels.tsa.vector_ar.var_model import VAR"
      ],
      "execution_count": 0,
      "outputs": []
    },
    {
      "cell_type": "code",
      "metadata": {
        "id": "6pr_QQVrWLTS",
        "colab_type": "code",
        "colab": {}
      },
      "source": [
        "lis = []"
      ],
      "execution_count": 0,
      "outputs": []
    },
    {
      "cell_type": "code",
      "metadata": {
        "id": "Yz9ZNysU4dFU",
        "colab_type": "code",
        "outputId": "79677da3-caf6-46b4-ed06-80c95eff6b8f",
        "colab": {
          "base_uri": "https://localhost:8080/",
          "height": 85
        }
      },
      "source": [
        "model = VAR(endog=data)\n",
        "model_fit = model.fit()\n",
        "yhat = model_fit.forecast(model_fit.y, steps=1)\n",
        "lis.append(yhat)"
      ],
      "execution_count": 1214,
      "outputs": [
        {
          "output_type": "stream",
          "text": [
            "/usr/local/lib/python3.6/dist-packages/statsmodels/base/wrapper.py:35: FutureWarning:\n",
            "\n",
            "y is a deprecated alias for endog, will be removed in version 0.11.0\n",
            "\n"
          ],
          "name": "stderr"
        }
      ]
    },
    {
      "cell_type": "code",
      "metadata": {
        "id": "Xaoon6n14dA-",
        "colab_type": "code",
        "outputId": "e08eb76e-a9e3-4519-9c31-a0c94016c82f",
        "colab": {
          "base_uri": "https://localhost:8080/",
          "height": 34
        }
      },
      "source": [
        "type(lis)"
      ],
      "execution_count": 1215,
      "outputs": [
        {
          "output_type": "execute_result",
          "data": {
            "text/plain": [
              "list"
            ]
          },
          "metadata": {
            "tags": []
          },
          "execution_count": 1215
        }
      ]
    },
    {
      "cell_type": "code",
      "metadata": {
        "id": "8VAOGarcZLP2",
        "colab_type": "code",
        "colab": {}
      },
      "source": [
        "l = [item for sublist in lis for item in sublist]"
      ],
      "execution_count": 0,
      "outputs": []
    },
    {
      "cell_type": "code",
      "metadata": {
        "id": "qRHTS0YgZLLh",
        "colab_type": "code",
        "colab": {}
      },
      "source": [
        "l = [item for sublist in l for item in sublist]"
      ],
      "execution_count": 0,
      "outputs": []
    },
    {
      "cell_type": "code",
      "metadata": {
        "id": "k0D_Thdm4c8f",
        "colab_type": "code",
        "colab": {}
      },
      "source": [
        "liss = pd.DataFrame(l, columns=['Infect Prob']) "
      ],
      "execution_count": 0,
      "outputs": []
    },
    {
      "cell_type": "code",
      "metadata": {
        "id": "yQyq93isdfSs",
        "colab_type": "code",
        "outputId": "85d4e455-970c-4f6b-92c2-1cb50b34a731",
        "colab": {
          "base_uri": "https://localhost:8080/",
          "height": 34
        }
      },
      "source": [
        "liss.index"
      ],
      "execution_count": 1219,
      "outputs": [
        {
          "output_type": "execute_result",
          "data": {
            "text/plain": [
              "RangeIndex(start=0, stop=10714, step=1)"
            ]
          },
          "metadata": {
            "tags": []
          },
          "execution_count": 1219
        }
      ]
    },
    {
      "cell_type": "code",
      "metadata": {
        "id": "agjzCAZTdg_s",
        "colab_type": "code",
        "colab": {}
      },
      "source": [
        "liss.index+=1"
      ],
      "execution_count": 0,
      "outputs": []
    },
    {
      "cell_type": "code",
      "metadata": {
        "id": "_B3r_KLtZLM5",
        "colab_type": "code",
        "colab": {}
      },
      "source": [
        "liss.to_csv('file3.csv')"
      ],
      "execution_count": 0,
      "outputs": []
    },
    {
      "cell_type": "code",
      "metadata": {
        "id": "ka5HvwtEby80",
        "colab_type": "code",
        "colab": {}
      },
      "source": [
        "liss.columns = ['deuresis']"
      ],
      "execution_count": 0,
      "outputs": []
    },
    {
      "cell_type": "code",
      "metadata": {
        "id": "RQX7Sw7YiAfZ",
        "colab_type": "code",
        "colab": {
          "base_uri": "https://localhost:8080/",
          "height": 419
        },
        "outputId": "17ec505d-b13b-4abf-9eae-a30c39e3d6db"
      },
      "source": [
        "liss"
      ],
      "execution_count": 1223,
      "outputs": [
        {
          "output_type": "execute_result",
          "data": {
            "text/html": [
              "<div>\n",
              "<style scoped>\n",
              "    .dataframe tbody tr th:only-of-type {\n",
              "        vertical-align: middle;\n",
              "    }\n",
              "\n",
              "    .dataframe tbody tr th {\n",
              "        vertical-align: top;\n",
              "    }\n",
              "\n",
              "    .dataframe thead th {\n",
              "        text-align: right;\n",
              "    }\n",
              "</style>\n",
              "<table border=\"1\" class=\"dataframe\">\n",
              "  <thead>\n",
              "    <tr style=\"text-align: right;\">\n",
              "      <th></th>\n",
              "      <th>deuresis</th>\n",
              "    </tr>\n",
              "  </thead>\n",
              "  <tbody>\n",
              "    <tr>\n",
              "      <th>1</th>\n",
              "      <td>1783.494315</td>\n",
              "    </tr>\n",
              "    <tr>\n",
              "      <th>2</th>\n",
              "      <td>744.442417</td>\n",
              "    </tr>\n",
              "    <tr>\n",
              "      <th>3</th>\n",
              "      <td>1691.304619</td>\n",
              "    </tr>\n",
              "    <tr>\n",
              "      <th>4</th>\n",
              "      <td>1657.111619</td>\n",
              "    </tr>\n",
              "    <tr>\n",
              "      <th>5</th>\n",
              "      <td>1594.899508</td>\n",
              "    </tr>\n",
              "    <tr>\n",
              "      <th>...</th>\n",
              "      <td>...</td>\n",
              "    </tr>\n",
              "    <tr>\n",
              "      <th>10710</th>\n",
              "      <td>674.995941</td>\n",
              "    </tr>\n",
              "    <tr>\n",
              "      <th>10711</th>\n",
              "      <td>1578.382878</td>\n",
              "    </tr>\n",
              "    <tr>\n",
              "      <th>10712</th>\n",
              "      <td>827.923331</td>\n",
              "    </tr>\n",
              "    <tr>\n",
              "      <th>10713</th>\n",
              "      <td>1460.318100</td>\n",
              "    </tr>\n",
              "    <tr>\n",
              "      <th>10714</th>\n",
              "      <td>840.513822</td>\n",
              "    </tr>\n",
              "  </tbody>\n",
              "</table>\n",
              "<p>10714 rows × 1 columns</p>\n",
              "</div>"
            ],
            "text/plain": [
              "          deuresis\n",
              "1      1783.494315\n",
              "2       744.442417\n",
              "3      1691.304619\n",
              "4      1657.111619\n",
              "5      1594.899508\n",
              "...            ...\n",
              "10710   674.995941\n",
              "10711  1578.382878\n",
              "10712   827.923331\n",
              "10713  1460.318100\n",
              "10714   840.513822\n",
              "\n",
              "[10714 rows x 1 columns]"
            ]
          },
          "metadata": {
            "tags": []
          },
          "execution_count": 1223
        }
      ]
    },
    {
      "cell_type": "code",
      "metadata": {
        "id": "l4Z2sZGQbzA3",
        "colab_type": "code",
        "colab": {}
      },
      "source": [
        "df = pd.read_csv('/content/drive/My Drive/Train_dataset.csv')"
      ],
      "execution_count": 0,
      "outputs": []
    },
    {
      "cell_type": "code",
      "metadata": {
        "id": "nEEyUjOVeo7n",
        "colab_type": "code",
        "outputId": "9d679df1-bc8c-41a3-e4b6-84dd52ddfa4a",
        "colab": {
          "base_uri": "https://localhost:8080/",
          "height": 136
        }
      },
      "source": [
        "df.columns"
      ],
      "execution_count": 1225,
      "outputs": [
        {
          "output_type": "execute_result",
          "data": {
            "text/plain": [
              "Index(['people_ID', 'Region', 'Gender', 'Designation', 'Name', 'Married',\n",
              "       'Children', 'Occupation', 'Mode_transport', 'cases/1M', 'Deaths/1M',\n",
              "       'comorbidity', 'Age', 'Coma score', 'Pulmonary score',\n",
              "       'cardiological pressure', 'Diuresis', 'Platelets', 'HBB', 'd-dimer',\n",
              "       'Heart rate', 'HDL cholesterol', 'Charlson Index', 'Blood Glucose',\n",
              "       'Insurance', 'salary', 'FT/month', 'Infect_Prob'],\n",
              "      dtype='object')"
            ]
          },
          "metadata": {
            "tags": []
          },
          "execution_count": 1225
        }
      ]
    },
    {
      "cell_type": "code",
      "metadata": {
        "id": "3qhmRrAwipqO",
        "colab_type": "code",
        "colab": {}
      },
      "source": [
        "detID = df['people_ID']"
      ],
      "execution_count": 0,
      "outputs": []
    },
    {
      "cell_type": "code",
      "metadata": {
        "id": "b_TRiFrOi1sg",
        "colab_type": "code",
        "colab": {}
      },
      "source": [
        "detID = pd.DataFrame(detID, columns = ['people_ID'])"
      ],
      "execution_count": 0,
      "outputs": []
    },
    {
      "cell_type": "code",
      "metadata": {
        "id": "ACl0sUahis7S",
        "colab_type": "code",
        "colab": {}
      },
      "source": [
        "lisst = pd.merge(detID, liss, on = detID['people_ID'])"
      ],
      "execution_count": 0,
      "outputs": []
    },
    {
      "cell_type": "code",
      "metadata": {
        "id": "a7rvNHG1jCPp",
        "colab_type": "code",
        "colab": {
          "base_uri": "https://localhost:8080/",
          "height": 419
        },
        "outputId": "353fcf36-d01e-4868-ec88-0404219182ac"
      },
      "source": [
        "lisst"
      ],
      "execution_count": 1229,
      "outputs": [
        {
          "output_type": "execute_result",
          "data": {
            "text/html": [
              "<div>\n",
              "<style scoped>\n",
              "    .dataframe tbody tr th:only-of-type {\n",
              "        vertical-align: middle;\n",
              "    }\n",
              "\n",
              "    .dataframe tbody tr th {\n",
              "        vertical-align: top;\n",
              "    }\n",
              "\n",
              "    .dataframe thead th {\n",
              "        text-align: right;\n",
              "    }\n",
              "</style>\n",
              "<table border=\"1\" class=\"dataframe\">\n",
              "  <thead>\n",
              "    <tr style=\"text-align: right;\">\n",
              "      <th></th>\n",
              "      <th>key_0</th>\n",
              "      <th>people_ID</th>\n",
              "      <th>deuresis</th>\n",
              "    </tr>\n",
              "  </thead>\n",
              "  <tbody>\n",
              "    <tr>\n",
              "      <th>0</th>\n",
              "      <td>1</td>\n",
              "      <td>1</td>\n",
              "      <td>1783.494315</td>\n",
              "    </tr>\n",
              "    <tr>\n",
              "      <th>1</th>\n",
              "      <td>2</td>\n",
              "      <td>2</td>\n",
              "      <td>744.442417</td>\n",
              "    </tr>\n",
              "    <tr>\n",
              "      <th>2</th>\n",
              "      <td>3</td>\n",
              "      <td>3</td>\n",
              "      <td>1691.304619</td>\n",
              "    </tr>\n",
              "    <tr>\n",
              "      <th>3</th>\n",
              "      <td>4</td>\n",
              "      <td>4</td>\n",
              "      <td>1657.111619</td>\n",
              "    </tr>\n",
              "    <tr>\n",
              "      <th>4</th>\n",
              "      <td>5</td>\n",
              "      <td>5</td>\n",
              "      <td>1594.899508</td>\n",
              "    </tr>\n",
              "    <tr>\n",
              "      <th>...</th>\n",
              "      <td>...</td>\n",
              "      <td>...</td>\n",
              "      <td>...</td>\n",
              "    </tr>\n",
              "    <tr>\n",
              "      <th>10709</th>\n",
              "      <td>22691</td>\n",
              "      <td>22691</td>\n",
              "      <td>674.995941</td>\n",
              "    </tr>\n",
              "    <tr>\n",
              "      <th>10710</th>\n",
              "      <td>22692</td>\n",
              "      <td>22692</td>\n",
              "      <td>1578.382878</td>\n",
              "    </tr>\n",
              "    <tr>\n",
              "      <th>10711</th>\n",
              "      <td>22693</td>\n",
              "      <td>22693</td>\n",
              "      <td>827.923331</td>\n",
              "    </tr>\n",
              "    <tr>\n",
              "      <th>10712</th>\n",
              "      <td>22694</td>\n",
              "      <td>22694</td>\n",
              "      <td>1460.318100</td>\n",
              "    </tr>\n",
              "    <tr>\n",
              "      <th>10713</th>\n",
              "      <td>22695</td>\n",
              "      <td>22695</td>\n",
              "      <td>840.513822</td>\n",
              "    </tr>\n",
              "  </tbody>\n",
              "</table>\n",
              "<p>10714 rows × 3 columns</p>\n",
              "</div>"
            ],
            "text/plain": [
              "       key_0  people_ID     deuresis\n",
              "0          1          1  1783.494315\n",
              "1          2          2   744.442417\n",
              "2          3          3  1691.304619\n",
              "3          4          4  1657.111619\n",
              "4          5          5  1594.899508\n",
              "...      ...        ...          ...\n",
              "10709  22691      22691   674.995941\n",
              "10710  22692      22692  1578.382878\n",
              "10711  22693      22693   827.923331\n",
              "10712  22694      22694  1460.318100\n",
              "10713  22695      22695   840.513822\n",
              "\n",
              "[10714 rows x 3 columns]"
            ]
          },
          "metadata": {
            "tags": []
          },
          "execution_count": 1229
        }
      ]
    },
    {
      "cell_type": "code",
      "metadata": {
        "id": "APEIopxcis6N",
        "colab_type": "code",
        "colab": {}
      },
      "source": [
        "lisst= lisst.drop(['key_0'],axis = 1)\n"
      ],
      "execution_count": 0,
      "outputs": []
    },
    {
      "cell_type": "code",
      "metadata": {
        "id": "FsvP3IrDtQHn",
        "colab_type": "code",
        "colab": {}
      },
      "source": [
        "# lisst= lisst.drop(['people_ID'],axis = 1)"
      ],
      "execution_count": 0,
      "outputs": []
    },
    {
      "cell_type": "code",
      "metadata": {
        "id": "HJxoUjk-jNEn",
        "colab_type": "code",
        "colab": {
          "base_uri": "https://localhost:8080/",
          "height": 419
        },
        "outputId": "b738f979-945f-436d-8e89-9766e42f534e"
      },
      "source": [
        "lisst "
      ],
      "execution_count": 1232,
      "outputs": [
        {
          "output_type": "execute_result",
          "data": {
            "text/html": [
              "<div>\n",
              "<style scoped>\n",
              "    .dataframe tbody tr th:only-of-type {\n",
              "        vertical-align: middle;\n",
              "    }\n",
              "\n",
              "    .dataframe tbody tr th {\n",
              "        vertical-align: top;\n",
              "    }\n",
              "\n",
              "    .dataframe thead th {\n",
              "        text-align: right;\n",
              "    }\n",
              "</style>\n",
              "<table border=\"1\" class=\"dataframe\">\n",
              "  <thead>\n",
              "    <tr style=\"text-align: right;\">\n",
              "      <th></th>\n",
              "      <th>people_ID</th>\n",
              "      <th>deuresis</th>\n",
              "    </tr>\n",
              "  </thead>\n",
              "  <tbody>\n",
              "    <tr>\n",
              "      <th>0</th>\n",
              "      <td>1</td>\n",
              "      <td>1783.494315</td>\n",
              "    </tr>\n",
              "    <tr>\n",
              "      <th>1</th>\n",
              "      <td>2</td>\n",
              "      <td>744.442417</td>\n",
              "    </tr>\n",
              "    <tr>\n",
              "      <th>2</th>\n",
              "      <td>3</td>\n",
              "      <td>1691.304619</td>\n",
              "    </tr>\n",
              "    <tr>\n",
              "      <th>3</th>\n",
              "      <td>4</td>\n",
              "      <td>1657.111619</td>\n",
              "    </tr>\n",
              "    <tr>\n",
              "      <th>4</th>\n",
              "      <td>5</td>\n",
              "      <td>1594.899508</td>\n",
              "    </tr>\n",
              "    <tr>\n",
              "      <th>...</th>\n",
              "      <td>...</td>\n",
              "      <td>...</td>\n",
              "    </tr>\n",
              "    <tr>\n",
              "      <th>10709</th>\n",
              "      <td>22691</td>\n",
              "      <td>674.995941</td>\n",
              "    </tr>\n",
              "    <tr>\n",
              "      <th>10710</th>\n",
              "      <td>22692</td>\n",
              "      <td>1578.382878</td>\n",
              "    </tr>\n",
              "    <tr>\n",
              "      <th>10711</th>\n",
              "      <td>22693</td>\n",
              "      <td>827.923331</td>\n",
              "    </tr>\n",
              "    <tr>\n",
              "      <th>10712</th>\n",
              "      <td>22694</td>\n",
              "      <td>1460.318100</td>\n",
              "    </tr>\n",
              "    <tr>\n",
              "      <th>10713</th>\n",
              "      <td>22695</td>\n",
              "      <td>840.513822</td>\n",
              "    </tr>\n",
              "  </tbody>\n",
              "</table>\n",
              "<p>10714 rows × 2 columns</p>\n",
              "</div>"
            ],
            "text/plain": [
              "       people_ID     deuresis\n",
              "0              1  1783.494315\n",
              "1              2   744.442417\n",
              "2              3  1691.304619\n",
              "3              4  1657.111619\n",
              "4              5  1594.899508\n",
              "...          ...          ...\n",
              "10709      22691   674.995941\n",
              "10710      22692  1578.382878\n",
              "10711      22693   827.923331\n",
              "10712      22694  1460.318100\n",
              "10713      22695   840.513822\n",
              "\n",
              "[10714 rows x 2 columns]"
            ]
          },
          "metadata": {
            "tags": []
          },
          "execution_count": 1232
        }
      ]
    },
    {
      "cell_type": "code",
      "metadata": {
        "id": "hJbWgW0o1Zvl",
        "colab_type": "code",
        "colab": {
          "base_uri": "https://localhost:8080/",
          "height": 51
        },
        "outputId": "c7272949-b1b8-437b-fd59-b7c9b05c5e73"
      },
      "source": [
        "print(lisst['deuresis'].min())\n",
        "print(lisst['deuresis'].max())\n",
        "lisst = lisst.sort_values(by=['deuresis'])"
      ],
      "execution_count": 1233,
      "outputs": [
        {
          "output_type": "stream",
          "text": [
            "576.4878458264346\n",
            "1818.8950133147996\n"
          ],
          "name": "stdout"
        }
      ]
    },
    {
      "cell_type": "code",
      "metadata": {
        "colab_type": "code",
        "id": "oFyZKvFf1s0V",
        "colab": {}
      },
      "source": [
        "lisst.reset_index(drop= True,inplace=True)"
      ],
      "execution_count": 0,
      "outputs": []
    },
    {
      "cell_type": "code",
      "metadata": {
        "colab_type": "code",
        "id": "2jaoqV_i1s0b",
        "colab": {}
      },
      "source": [
        "lisst.index = lisst.index+1"
      ],
      "execution_count": 0,
      "outputs": []
    },
    {
      "cell_type": "code",
      "metadata": {
        "id": "v5i6lm7C56sM",
        "colab_type": "code",
        "colab": {
          "base_uri": "https://localhost:8080/",
          "height": 419
        },
        "outputId": "f0edd6e5-1c12-4aeb-e579-902e0a34d5b6"
      },
      "source": [
        "lisst"
      ],
      "execution_count": 1236,
      "outputs": [
        {
          "output_type": "execute_result",
          "data": {
            "text/html": [
              "<div>\n",
              "<style scoped>\n",
              "    .dataframe tbody tr th:only-of-type {\n",
              "        vertical-align: middle;\n",
              "    }\n",
              "\n",
              "    .dataframe tbody tr th {\n",
              "        vertical-align: top;\n",
              "    }\n",
              "\n",
              "    .dataframe thead th {\n",
              "        text-align: right;\n",
              "    }\n",
              "</style>\n",
              "<table border=\"1\" class=\"dataframe\">\n",
              "  <thead>\n",
              "    <tr style=\"text-align: right;\">\n",
              "      <th></th>\n",
              "      <th>people_ID</th>\n",
              "      <th>deuresis</th>\n",
              "    </tr>\n",
              "  </thead>\n",
              "  <tbody>\n",
              "    <tr>\n",
              "      <th>1</th>\n",
              "      <td>14274</td>\n",
              "      <td>576.487846</td>\n",
              "    </tr>\n",
              "    <tr>\n",
              "      <th>2</th>\n",
              "      <td>1905</td>\n",
              "      <td>579.522693</td>\n",
              "    </tr>\n",
              "    <tr>\n",
              "      <th>3</th>\n",
              "      <td>13763</td>\n",
              "      <td>579.922757</td>\n",
              "    </tr>\n",
              "    <tr>\n",
              "      <th>4</th>\n",
              "      <td>2614</td>\n",
              "      <td>579.963465</td>\n",
              "    </tr>\n",
              "    <tr>\n",
              "      <th>5</th>\n",
              "      <td>2799</td>\n",
              "      <td>580.117943</td>\n",
              "    </tr>\n",
              "    <tr>\n",
              "      <th>...</th>\n",
              "      <td>...</td>\n",
              "      <td>...</td>\n",
              "    </tr>\n",
              "    <tr>\n",
              "      <th>10710</th>\n",
              "      <td>13109</td>\n",
              "      <td>1815.367759</td>\n",
              "    </tr>\n",
              "    <tr>\n",
              "      <th>10711</th>\n",
              "      <td>9451</td>\n",
              "      <td>1815.792432</td>\n",
              "    </tr>\n",
              "    <tr>\n",
              "      <th>10712</th>\n",
              "      <td>14818</td>\n",
              "      <td>1816.142097</td>\n",
              "    </tr>\n",
              "    <tr>\n",
              "      <th>10713</th>\n",
              "      <td>8879</td>\n",
              "      <td>1818.848841</td>\n",
              "    </tr>\n",
              "    <tr>\n",
              "      <th>10714</th>\n",
              "      <td>9005</td>\n",
              "      <td>1818.895013</td>\n",
              "    </tr>\n",
              "  </tbody>\n",
              "</table>\n",
              "<p>10714 rows × 2 columns</p>\n",
              "</div>"
            ],
            "text/plain": [
              "       people_ID     deuresis\n",
              "1          14274   576.487846\n",
              "2           1905   579.522693\n",
              "3          13763   579.922757\n",
              "4           2614   579.963465\n",
              "5           2799   580.117943\n",
              "...          ...          ...\n",
              "10710      13109  1815.367759\n",
              "10711       9451  1815.792432\n",
              "10712      14818  1816.142097\n",
              "10713       8879  1818.848841\n",
              "10714       9005  1818.895013\n",
              "\n",
              "[10714 rows x 2 columns]"
            ]
          },
          "metadata": {
            "tags": []
          },
          "execution_count": 1236
        }
      ]
    },
    {
      "cell_type": "code",
      "metadata": {
        "id": "QZXUR9F04UQE",
        "colab_type": "code",
        "colab": {
          "base_uri": "https://localhost:8080/",
          "height": 34
        },
        "outputId": "dd3f5c50-0d4a-4416-ef36-df6a8088de48"
      },
      "source": [
        "lisst['deuresis'][25]"
      ],
      "execution_count": 1237,
      "outputs": [
        {
          "output_type": "execute_result",
          "data": {
            "text/plain": [
              "586.8124075512051"
            ]
          },
          "metadata": {
            "tags": []
          },
          "execution_count": 1237
        }
      ]
    },
    {
      "cell_type": "code",
      "metadata": {
        "id": "V8e4OwWc7g4l",
        "colab_type": "code",
        "colab": {
          "base_uri": "https://localhost:8080/",
          "height": 419
        },
        "outputId": "13af966f-7533-4b42-926e-556281511423"
      },
      "source": [
        "lisst"
      ],
      "execution_count": 1238,
      "outputs": [
        {
          "output_type": "execute_result",
          "data": {
            "text/html": [
              "<div>\n",
              "<style scoped>\n",
              "    .dataframe tbody tr th:only-of-type {\n",
              "        vertical-align: middle;\n",
              "    }\n",
              "\n",
              "    .dataframe tbody tr th {\n",
              "        vertical-align: top;\n",
              "    }\n",
              "\n",
              "    .dataframe thead th {\n",
              "        text-align: right;\n",
              "    }\n",
              "</style>\n",
              "<table border=\"1\" class=\"dataframe\">\n",
              "  <thead>\n",
              "    <tr style=\"text-align: right;\">\n",
              "      <th></th>\n",
              "      <th>people_ID</th>\n",
              "      <th>deuresis</th>\n",
              "    </tr>\n",
              "  </thead>\n",
              "  <tbody>\n",
              "    <tr>\n",
              "      <th>1</th>\n",
              "      <td>14274</td>\n",
              "      <td>576.487846</td>\n",
              "    </tr>\n",
              "    <tr>\n",
              "      <th>2</th>\n",
              "      <td>1905</td>\n",
              "      <td>579.522693</td>\n",
              "    </tr>\n",
              "    <tr>\n",
              "      <th>3</th>\n",
              "      <td>13763</td>\n",
              "      <td>579.922757</td>\n",
              "    </tr>\n",
              "    <tr>\n",
              "      <th>4</th>\n",
              "      <td>2614</td>\n",
              "      <td>579.963465</td>\n",
              "    </tr>\n",
              "    <tr>\n",
              "      <th>5</th>\n",
              "      <td>2799</td>\n",
              "      <td>580.117943</td>\n",
              "    </tr>\n",
              "    <tr>\n",
              "      <th>...</th>\n",
              "      <td>...</td>\n",
              "      <td>...</td>\n",
              "    </tr>\n",
              "    <tr>\n",
              "      <th>10710</th>\n",
              "      <td>13109</td>\n",
              "      <td>1815.367759</td>\n",
              "    </tr>\n",
              "    <tr>\n",
              "      <th>10711</th>\n",
              "      <td>9451</td>\n",
              "      <td>1815.792432</td>\n",
              "    </tr>\n",
              "    <tr>\n",
              "      <th>10712</th>\n",
              "      <td>14818</td>\n",
              "      <td>1816.142097</td>\n",
              "    </tr>\n",
              "    <tr>\n",
              "      <th>10713</th>\n",
              "      <td>8879</td>\n",
              "      <td>1818.848841</td>\n",
              "    </tr>\n",
              "    <tr>\n",
              "      <th>10714</th>\n",
              "      <td>9005</td>\n",
              "      <td>1818.895013</td>\n",
              "    </tr>\n",
              "  </tbody>\n",
              "</table>\n",
              "<p>10714 rows × 2 columns</p>\n",
              "</div>"
            ],
            "text/plain": [
              "       people_ID     deuresis\n",
              "1          14274   576.487846\n",
              "2           1905   579.522693\n",
              "3          13763   579.922757\n",
              "4           2614   579.963465\n",
              "5           2799   580.117943\n",
              "...          ...          ...\n",
              "10710      13109  1815.367759\n",
              "10711       9451  1815.792432\n",
              "10712      14818  1816.142097\n",
              "10713       8879  1818.848841\n",
              "10714       9005  1818.895013\n",
              "\n",
              "[10714 rows x 2 columns]"
            ]
          },
          "metadata": {
            "tags": []
          },
          "execution_count": 1238
        }
      ]
    },
    {
      "cell_type": "code",
      "metadata": {
        "colab_type": "code",
        "outputId": "5309d8fc-5206-4a99-d75c-4382d234a037",
        "id": "IJjE6nDU1s0d",
        "colab": {
          "base_uri": "https://localhost:8080/",
          "height": 374
        }
      },
      "source": [
        "k=1\n",
        "t = lisst['deuresis'][1] \n",
        "lisst['deuresis'][1] = 1\n",
        "for i in range(2,10715):\n",
        "  if(lisst['deuresis'][i]>(t+10)):\n",
        "    k=k+1\n",
        "    t = lisst['deuresis'][i]\n",
        "    lisst['deuresis'][i] = k\n",
        "  else:\n",
        "    lisst['deuresis'][i] = k "
      ],
      "execution_count": 1239,
      "outputs": [
        {
          "output_type": "stream",
          "text": [
            "/usr/local/lib/python3.6/dist-packages/ipykernel_launcher.py:3: SettingWithCopyWarning:\n",
            "\n",
            "\n",
            "A value is trying to be set on a copy of a slice from a DataFrame\n",
            "\n",
            "See the caveats in the documentation: http://pandas.pydata.org/pandas-docs/stable/user_guide/indexing.html#returning-a-view-versus-a-copy\n",
            "\n",
            "/usr/local/lib/python3.6/dist-packages/ipykernel_launcher.py:10: SettingWithCopyWarning:\n",
            "\n",
            "\n",
            "A value is trying to be set on a copy of a slice from a DataFrame\n",
            "\n",
            "See the caveats in the documentation: http://pandas.pydata.org/pandas-docs/stable/user_guide/indexing.html#returning-a-view-versus-a-copy\n",
            "\n",
            "/usr/local/lib/python3.6/dist-packages/ipykernel_launcher.py:8: SettingWithCopyWarning:\n",
            "\n",
            "\n",
            "A value is trying to be set on a copy of a slice from a DataFrame\n",
            "\n",
            "See the caveats in the documentation: http://pandas.pydata.org/pandas-docs/stable/user_guide/indexing.html#returning-a-view-versus-a-copy\n",
            "\n"
          ],
          "name": "stderr"
        }
      ]
    },
    {
      "cell_type": "code",
      "metadata": {
        "id": "enuiVhSF1pTT",
        "colab_type": "code",
        "colab": {
          "base_uri": "https://localhost:8080/",
          "height": 221
        },
        "outputId": "e56ea0f1-c035-4b35-b3bd-ab008dde371a"
      },
      "source": [
        "lisst['deuresis'].value_counts()"
      ],
      "execution_count": 1240,
      "outputs": [
        {
          "output_type": "execute_result",
          "data": {
            "text/plain": [
              "42.0     115\n",
              "54.0     110\n",
              "23.0     107\n",
              "28.0     104\n",
              "58.0     103\n",
              "        ... \n",
              "83.0      69\n",
              "2.0       62\n",
              "122.0     47\n",
              "1.0       24\n",
              "123.0      9\n",
              "Name: deuresis, Length: 123, dtype: int64"
            ]
          },
          "metadata": {
            "tags": []
          },
          "execution_count": 1240
        }
      ]
    },
    {
      "cell_type": "code",
      "metadata": {
        "id": "mbMB2yqi1pM0",
        "colab_type": "code",
        "colab": {}
      },
      "source": [
        ""
      ],
      "execution_count": 0,
      "outputs": []
    },
    {
      "cell_type": "code",
      "metadata": {
        "id": "9d0bw2uvbzMK",
        "colab_type": "code",
        "colab": {}
      },
      "source": [
        "df = df[['people_ID','Diuresis','Infect_Prob']]"
      ],
      "execution_count": 0,
      "outputs": []
    },
    {
      "cell_type": "code",
      "metadata": {
        "id": "vh9si8NybIhu",
        "colab_type": "code",
        "colab": {}
      },
      "source": [
        "df['Diuresis'] = df['Diuresis'].fillna(df.Diuresis.mean())"
      ],
      "execution_count": 0,
      "outputs": []
    },
    {
      "cell_type": "code",
      "metadata": {
        "id": "qHDTBdWjbRxE",
        "colab_type": "code",
        "outputId": "0f39d747-db4f-44cd-e439-1efb79dc4659",
        "colab": {
          "base_uri": "https://localhost:8080/",
          "height": 85
        }
      },
      "source": [
        "df.isnull().sum()"
      ],
      "execution_count": 1243,
      "outputs": [
        {
          "output_type": "execute_result",
          "data": {
            "text/plain": [
              "people_ID      0\n",
              "Diuresis       0\n",
              "Infect_Prob    0\n",
              "dtype: int64"
            ]
          },
          "metadata": {
            "tags": []
          },
          "execution_count": 1243
        }
      ]
    },
    {
      "cell_type": "code",
      "metadata": {
        "id": "BdVhvvgRyBhG",
        "colab_type": "code",
        "colab": {
          "base_uri": "https://localhost:8080/",
          "height": 221
        },
        "outputId": "ab6cba8d-c676-41e2-8c1c-d11ccfb54940"
      },
      "source": [
        "df['Diuresis']"
      ],
      "execution_count": 1244,
      "outputs": [
        {
          "output_type": "execute_result",
          "data": {
            "text/plain": [
              "0        441.000000\n",
              "1        278.806261\n",
              "2        416.000000\n",
              "3        410.000000\n",
              "4        390.000000\n",
              "            ...    \n",
              "10709    134.000000\n",
              "10710    387.000000\n",
              "10711    177.000000\n",
              "10712    352.000000\n",
              "10713    181.000000\n",
              "Name: Diuresis, Length: 10714, dtype: float64"
            ]
          },
          "metadata": {
            "tags": []
          },
          "execution_count": 1244
        }
      ]
    },
    {
      "cell_type": "code",
      "metadata": {
        "id": "_OJ8mh1JbXea",
        "colab_type": "code",
        "colab": {}
      },
      "source": [
        "df = df.sort_values(by=['Diuresis'])"
      ],
      "execution_count": 0,
      "outputs": []
    },
    {
      "cell_type": "code",
      "metadata": {
        "id": "QQuAi-e1yvJE",
        "colab_type": "code",
        "colab": {}
      },
      "source": [
        "df.reset_index(drop= True,inplace=True)"
      ],
      "execution_count": 0,
      "outputs": []
    },
    {
      "cell_type": "code",
      "metadata": {
        "id": "QI2d1fSXzpOJ",
        "colab_type": "code",
        "colab": {
          "base_uri": "https://localhost:8080/",
          "height": 34
        },
        "outputId": "e190c2fc-20d4-4f4a-d4ab-5f6f294bea21"
      },
      "source": [
        "df['Diuresis'][1]"
      ],
      "execution_count": 1247,
      "outputs": [
        {
          "output_type": "execute_result",
          "data": {
            "text/plain": [
              "110.0"
            ]
          },
          "metadata": {
            "tags": []
          },
          "execution_count": 1247
        }
      ]
    },
    {
      "cell_type": "code",
      "metadata": {
        "id": "XRI-bvlf1F_B",
        "colab_type": "code",
        "colab": {}
      },
      "source": [
        "df.index = df.index+1"
      ],
      "execution_count": 0,
      "outputs": []
    },
    {
      "cell_type": "code",
      "metadata": {
        "id": "HiMzjlAax9fK",
        "colab_type": "code",
        "colab": {
          "base_uri": "https://localhost:8080/",
          "height": 374
        },
        "outputId": "49817398-f51e-40fa-df72-60358fa26fe9"
      },
      "source": [
        "k=1\n",
        "t = df['Diuresis'][1] \n",
        "df['Diuresis'][1] = 1\n",
        "for i in range(2,10715):\n",
        "  if(df['Diuresis'][i]>t+10):\n",
        "    k=k+1\n",
        "    t = df['Diuresis'][i]\n",
        "    df['Diuresis'][i] = k\n",
        "  else:\n",
        "    df['Diuresis'][i] = k"
      ],
      "execution_count": 1249,
      "outputs": [
        {
          "output_type": "stream",
          "text": [
            "/usr/local/lib/python3.6/dist-packages/ipykernel_launcher.py:3: SettingWithCopyWarning:\n",
            "\n",
            "\n",
            "A value is trying to be set on a copy of a slice from a DataFrame\n",
            "\n",
            "See the caveats in the documentation: http://pandas.pydata.org/pandas-docs/stable/user_guide/indexing.html#returning-a-view-versus-a-copy\n",
            "\n",
            "/usr/local/lib/python3.6/dist-packages/ipykernel_launcher.py:10: SettingWithCopyWarning:\n",
            "\n",
            "\n",
            "A value is trying to be set on a copy of a slice from a DataFrame\n",
            "\n",
            "See the caveats in the documentation: http://pandas.pydata.org/pandas-docs/stable/user_guide/indexing.html#returning-a-view-versus-a-copy\n",
            "\n",
            "/usr/local/lib/python3.6/dist-packages/ipykernel_launcher.py:8: SettingWithCopyWarning:\n",
            "\n",
            "\n",
            "A value is trying to be set on a copy of a slice from a DataFrame\n",
            "\n",
            "See the caveats in the documentation: http://pandas.pydata.org/pandas-docs/stable/user_guide/indexing.html#returning-a-view-versus-a-copy\n",
            "\n"
          ],
          "name": "stderr"
        }
      ]
    },
    {
      "cell_type": "code",
      "metadata": {
        "id": "eg4qGo_9yAa5",
        "colab_type": "code",
        "colab": {
          "base_uri": "https://localhost:8080/",
          "height": 34
        },
        "outputId": "75b16cbd-ea40-44c2-ff9d-f0c31eb124d4"
      },
      "source": [
        "df['Diuresis'][11]\n"
      ],
      "execution_count": 1250,
      "outputs": [
        {
          "output_type": "execute_result",
          "data": {
            "text/plain": [
              "1.0"
            ]
          },
          "metadata": {
            "tags": []
          },
          "execution_count": 1250
        }
      ]
    },
    {
      "cell_type": "code",
      "metadata": {
        "id": "2CrvVCIjxYbW",
        "colab_type": "code",
        "colab": {
          "base_uri": "https://localhost:8080/",
          "height": 34
        },
        "outputId": "3700253a-6270-4b97-c801-0580e33bde88"
      },
      "source": [
        "df['Diuresis'].max()"
      ],
      "execution_count": 1251,
      "outputs": [
        {
          "output_type": "execute_result",
          "data": {
            "text/plain": [
              "31.0"
            ]
          },
          "metadata": {
            "tags": []
          },
          "execution_count": 1251
        }
      ]
    },
    {
      "cell_type": "code",
      "metadata": {
        "id": "7333xqQ1s-7F",
        "colab_type": "code",
        "colab": {}
      },
      "source": [
        "detID = df['people_ID']\n",
        "# df = df.drop(['people_ID'],axis = 1)"
      ],
      "execution_count": 0,
      "outputs": []
    },
    {
      "cell_type": "code",
      "metadata": {
        "id": "8iNEdNqKtcvY",
        "colab_type": "code",
        "colab": {}
      },
      "source": [
        "detID = pd.DataFrame(detID, columns = ['people_ID'])"
      ],
      "execution_count": 0,
      "outputs": []
    },
    {
      "cell_type": "code",
      "metadata": {
        "id": "TE7MeKXtb3eh",
        "colab_type": "code",
        "colab": {}
      },
      "source": [
        "test = df['Infect_Prob']\n",
        "train = df.drop(['Infect_Prob'],axis = 1)"
      ],
      "execution_count": 0,
      "outputs": []
    },
    {
      "cell_type": "code",
      "metadata": {
        "id": "XS3Pl5_ub8FQ",
        "colab_type": "code",
        "colab": {}
      },
      "source": [
        "trainX,testX,trainY,testY = train_test_split(train,test, test_size = 0.2, random_state = 42)"
      ],
      "execution_count": 0,
      "outputs": []
    },
    {
      "cell_type": "code",
      "metadata": {
        "id": "RbvBiSESkrq1",
        "colab_type": "code",
        "colab": {}
      },
      "source": [
        "from sklearn.linear_model import LinearRegression\n",
        "from sklearn.linear_model import Lasso\n",
        "from sklearn.linear_model import ElasticNet\n",
        "from sklearn.tree import DecisionTreeRegressor\n",
        "from sklearn.neighbors import KNeighborsRegressor\n",
        "from sklearn.ensemble import GradientBoostingRegressor\n",
        "import xgboost as xgb"
      ],
      "execution_count": 0,
      "outputs": []
    },
    {
      "cell_type": "code",
      "metadata": {
        "id": "PRhTf758krpd",
        "colab_type": "code",
        "colab": {}
      },
      "source": [
        "knn =  KNeighborsRegressor()\n",
        "model = knn.fit(trainX,trainY)"
      ],
      "execution_count": 0,
      "outputs": []
    },
    {
      "cell_type": "code",
      "metadata": {
        "id": "OKvMnBk7bwXe",
        "colab_type": "code",
        "colab": {}
      },
      "source": [
        "# lm = linear_model.LinearRegression()\n",
        "# model = lm.fit(train,test)"
      ],
      "execution_count": 0,
      "outputs": []
    },
    {
      "cell_type": "code",
      "metadata": {
        "id": "dxa1r6PRbwd7",
        "colab_type": "code",
        "colab": {}
      },
      "source": [
        "pred = model.predict(lisst)"
      ],
      "execution_count": 0,
      "outputs": []
    },
    {
      "cell_type": "code",
      "metadata": {
        "id": "g9aoxrF2lK3-",
        "colab_type": "code",
        "colab": {
          "base_uri": "https://localhost:8080/",
          "height": 51
        },
        "outputId": "41a0883e-9736-42b4-a158-c1fd74a65482"
      },
      "source": [
        "pred"
      ],
      "execution_count": 1260,
      "outputs": [
        {
          "output_type": "execute_result",
          "data": {
            "text/plain": [
              "array([45.13501566, 48.50097377, 47.5842721 , ..., 50.46307391,\n",
              "       62.78770249, 56.04426227])"
            ]
          },
          "metadata": {
            "tags": []
          },
          "execution_count": 1260
        }
      ]
    },
    {
      "cell_type": "code",
      "metadata": {
        "id": "NSyy078Dbwhy",
        "colab_type": "code",
        "colab": {}
      },
      "source": [
        "pred = pd.DataFrame(pred, columns = ['Infect_Prob'])"
      ],
      "execution_count": 0,
      "outputs": []
    },
    {
      "cell_type": "code",
      "metadata": {
        "id": "h5jUEOhAbwmB",
        "colab_type": "code",
        "colab": {}
      },
      "source": [
        "final = pd.merge(pred, detID, on=detID['people_ID'])"
      ],
      "execution_count": 0,
      "outputs": []
    },
    {
      "cell_type": "code",
      "metadata": {
        "id": "Jj0_dIATbwqW",
        "colab_type": "code",
        "colab": {}
      },
      "source": [
        "# final = final.drop(['key_0'],axis = 1)"
      ],
      "execution_count": 0,
      "outputs": []
    },
    {
      "cell_type": "code",
      "metadata": {
        "id": "HRkLfE8ebwpX",
        "colab_type": "code",
        "colab": {
          "base_uri": "https://localhost:8080/",
          "height": 419
        },
        "outputId": "328e698a-8cf9-4602-860e-4e0db5e3e45d"
      },
      "source": [
        "final"
      ],
      "execution_count": 1264,
      "outputs": [
        {
          "output_type": "execute_result",
          "data": {
            "text/html": [
              "<div>\n",
              "<style scoped>\n",
              "    .dataframe tbody tr th:only-of-type {\n",
              "        vertical-align: middle;\n",
              "    }\n",
              "\n",
              "    .dataframe tbody tr th {\n",
              "        vertical-align: top;\n",
              "    }\n",
              "\n",
              "    .dataframe thead th {\n",
              "        text-align: right;\n",
              "    }\n",
              "</style>\n",
              "<table border=\"1\" class=\"dataframe\">\n",
              "  <thead>\n",
              "    <tr style=\"text-align: right;\">\n",
              "      <th></th>\n",
              "      <th>key_0</th>\n",
              "      <th>Infect_Prob</th>\n",
              "      <th>people_ID</th>\n",
              "    </tr>\n",
              "  </thead>\n",
              "  <tbody>\n",
              "    <tr>\n",
              "      <th>0</th>\n",
              "      <td>2614</td>\n",
              "      <td>45.135016</td>\n",
              "      <td>2614</td>\n",
              "    </tr>\n",
              "    <tr>\n",
              "      <th>1</th>\n",
              "      <td>2799</td>\n",
              "      <td>48.500974</td>\n",
              "      <td>2799</td>\n",
              "    </tr>\n",
              "    <tr>\n",
              "      <th>2</th>\n",
              "      <td>13168</td>\n",
              "      <td>47.584272</td>\n",
              "      <td>13168</td>\n",
              "    </tr>\n",
              "    <tr>\n",
              "      <th>3</th>\n",
              "      <td>9158</td>\n",
              "      <td>46.448181</td>\n",
              "      <td>9158</td>\n",
              "    </tr>\n",
              "    <tr>\n",
              "      <th>4</th>\n",
              "      <td>15684</td>\n",
              "      <td>46.941625</td>\n",
              "      <td>15684</td>\n",
              "    </tr>\n",
              "    <tr>\n",
              "      <th>...</th>\n",
              "      <td>...</td>\n",
              "      <td>...</td>\n",
              "      <td>...</td>\n",
              "    </tr>\n",
              "    <tr>\n",
              "      <th>10709</th>\n",
              "      <td>2927</td>\n",
              "      <td>49.325798</td>\n",
              "      <td>2927</td>\n",
              "    </tr>\n",
              "    <tr>\n",
              "      <th>10710</th>\n",
              "      <td>9176</td>\n",
              "      <td>51.629076</td>\n",
              "      <td>9176</td>\n",
              "    </tr>\n",
              "    <tr>\n",
              "      <th>10711</th>\n",
              "      <td>13245</td>\n",
              "      <td>50.463074</td>\n",
              "      <td>13245</td>\n",
              "    </tr>\n",
              "    <tr>\n",
              "      <th>10712</th>\n",
              "      <td>10062</td>\n",
              "      <td>62.787702</td>\n",
              "      <td>10062</td>\n",
              "    </tr>\n",
              "    <tr>\n",
              "      <th>10713</th>\n",
              "      <td>3784</td>\n",
              "      <td>56.044262</td>\n",
              "      <td>3784</td>\n",
              "    </tr>\n",
              "  </tbody>\n",
              "</table>\n",
              "<p>10714 rows × 3 columns</p>\n",
              "</div>"
            ],
            "text/plain": [
              "       key_0  Infect_Prob  people_ID\n",
              "0       2614    45.135016       2614\n",
              "1       2799    48.500974       2799\n",
              "2      13168    47.584272      13168\n",
              "3       9158    46.448181       9158\n",
              "4      15684    46.941625      15684\n",
              "...      ...          ...        ...\n",
              "10709   2927    49.325798       2927\n",
              "10710   9176    51.629076       9176\n",
              "10711  13245    50.463074      13245\n",
              "10712  10062    62.787702      10062\n",
              "10713   3784    56.044262       3784\n",
              "\n",
              "[10714 rows x 3 columns]"
            ]
          },
          "metadata": {
            "tags": []
          },
          "execution_count": 1264
        }
      ]
    },
    {
      "cell_type": "code",
      "metadata": {
        "id": "CUN3w-JfbwlD",
        "colab_type": "code",
        "colab": {
          "base_uri": "https://localhost:8080/",
          "height": 85
        },
        "outputId": "4876cbec-e585-4241-8149-1c5624f32317"
      },
      "source": [
        "final.mean()"
      ],
      "execution_count": 1265,
      "outputs": [
        {
          "output_type": "execute_result",
          "data": {
            "text/plain": [
              "key_0          10084.893784\n",
              "Infect_Prob       52.452282\n",
              "people_ID      10084.893784\n",
              "dtype: float64"
            ]
          },
          "metadata": {
            "tags": []
          },
          "execution_count": 1265
        }
      ]
    },
    {
      "cell_type": "code",
      "metadata": {
        "id": "lUJifvbSbwg2",
        "colab_type": "code",
        "colab": {
          "base_uri": "https://localhost:8080/",
          "height": 34
        },
        "outputId": "92601c64-ab6e-4832-af3e-6a7bff6ca318"
      },
      "source": [
        "final.max().count()"
      ],
      "execution_count": 1266,
      "outputs": [
        {
          "output_type": "execute_result",
          "data": {
            "text/plain": [
              "3"
            ]
          },
          "metadata": {
            "tags": []
          },
          "execution_count": 1266
        }
      ]
    },
    {
      "cell_type": "code",
      "metadata": {
        "id": "4eJWdv_Rbwbk",
        "colab_type": "code",
        "colab": {
          "base_uri": "https://localhost:8080/",
          "height": 419
        },
        "outputId": "790b727a-58c4-41ca-e598-c5ed37b6264b"
      },
      "source": [
        "final.drop(['key_0'],axis = 1)"
      ],
      "execution_count": 1267,
      "outputs": [
        {
          "output_type": "execute_result",
          "data": {
            "text/html": [
              "<div>\n",
              "<style scoped>\n",
              "    .dataframe tbody tr th:only-of-type {\n",
              "        vertical-align: middle;\n",
              "    }\n",
              "\n",
              "    .dataframe tbody tr th {\n",
              "        vertical-align: top;\n",
              "    }\n",
              "\n",
              "    .dataframe thead th {\n",
              "        text-align: right;\n",
              "    }\n",
              "</style>\n",
              "<table border=\"1\" class=\"dataframe\">\n",
              "  <thead>\n",
              "    <tr style=\"text-align: right;\">\n",
              "      <th></th>\n",
              "      <th>Infect_Prob</th>\n",
              "      <th>people_ID</th>\n",
              "    </tr>\n",
              "  </thead>\n",
              "  <tbody>\n",
              "    <tr>\n",
              "      <th>0</th>\n",
              "      <td>45.135016</td>\n",
              "      <td>2614</td>\n",
              "    </tr>\n",
              "    <tr>\n",
              "      <th>1</th>\n",
              "      <td>48.500974</td>\n",
              "      <td>2799</td>\n",
              "    </tr>\n",
              "    <tr>\n",
              "      <th>2</th>\n",
              "      <td>47.584272</td>\n",
              "      <td>13168</td>\n",
              "    </tr>\n",
              "    <tr>\n",
              "      <th>3</th>\n",
              "      <td>46.448181</td>\n",
              "      <td>9158</td>\n",
              "    </tr>\n",
              "    <tr>\n",
              "      <th>4</th>\n",
              "      <td>46.941625</td>\n",
              "      <td>15684</td>\n",
              "    </tr>\n",
              "    <tr>\n",
              "      <th>...</th>\n",
              "      <td>...</td>\n",
              "      <td>...</td>\n",
              "    </tr>\n",
              "    <tr>\n",
              "      <th>10709</th>\n",
              "      <td>49.325798</td>\n",
              "      <td>2927</td>\n",
              "    </tr>\n",
              "    <tr>\n",
              "      <th>10710</th>\n",
              "      <td>51.629076</td>\n",
              "      <td>9176</td>\n",
              "    </tr>\n",
              "    <tr>\n",
              "      <th>10711</th>\n",
              "      <td>50.463074</td>\n",
              "      <td>13245</td>\n",
              "    </tr>\n",
              "    <tr>\n",
              "      <th>10712</th>\n",
              "      <td>62.787702</td>\n",
              "      <td>10062</td>\n",
              "    </tr>\n",
              "    <tr>\n",
              "      <th>10713</th>\n",
              "      <td>56.044262</td>\n",
              "      <td>3784</td>\n",
              "    </tr>\n",
              "  </tbody>\n",
              "</table>\n",
              "<p>10714 rows × 2 columns</p>\n",
              "</div>"
            ],
            "text/plain": [
              "       Infect_Prob  people_ID\n",
              "0        45.135016       2614\n",
              "1        48.500974       2799\n",
              "2        47.584272      13168\n",
              "3        46.448181       9158\n",
              "4        46.941625      15684\n",
              "...            ...        ...\n",
              "10709    49.325798       2927\n",
              "10710    51.629076       9176\n",
              "10711    50.463074      13245\n",
              "10712    62.787702      10062\n",
              "10713    56.044262       3784\n",
              "\n",
              "[10714 rows x 2 columns]"
            ]
          },
          "metadata": {
            "tags": []
          },
          "execution_count": 1267
        }
      ]
    },
    {
      "cell_type": "code",
      "metadata": {
        "id": "RAbLjxBRbwWP",
        "colab_type": "code",
        "colab": {
          "base_uri": "https://localhost:8080/",
          "height": 85
        },
        "outputId": "48ef27d7-0d77-4200-83ac-df963ee50e9d"
      },
      "source": [
        "final.max()"
      ],
      "execution_count": 1268,
      "outputs": [
        {
          "output_type": "execute_result",
          "data": {
            "text/plain": [
              "key_0          22695.000000\n",
              "Infect_Prob       80.839296\n",
              "people_ID      22695.000000\n",
              "dtype: float64"
            ]
          },
          "metadata": {
            "tags": []
          },
          "execution_count": 1268
        }
      ]
    },
    {
      "cell_type": "code",
      "metadata": {
        "id": "uEthFxpwMjaD",
        "colab_type": "code",
        "colab": {
          "base_uri": "https://localhost:8080/",
          "height": 34
        },
        "outputId": "ebe92bd5-6cf9-44f3-fb43-a4fdcc39354e"
      },
      "source": [
        "final.min().count()"
      ],
      "execution_count": 1269,
      "outputs": [
        {
          "output_type": "execute_result",
          "data": {
            "text/plain": [
              "3"
            ]
          },
          "metadata": {
            "tags": []
          },
          "execution_count": 1269
        }
      ]
    },
    {
      "cell_type": "code",
      "metadata": {
        "id": "a5-2kGOOL7-h",
        "colab_type": "code",
        "colab": {}
      },
      "source": [
        "final.to_csv('finalInfect02.csv')"
      ],
      "execution_count": 0,
      "outputs": []
    },
    {
      "cell_type": "code",
      "metadata": {
        "id": "-_UHcgf5R3Vl",
        "colab_type": "code",
        "colab": {
          "base_uri": "https://localhost:8080/",
          "height": 80
        },
        "outputId": "bc5ebaf3-53f3-4ac0-dcfe-23fcc72b6f51"
      },
      "source": [
        "lisst[lisst['people_ID']==2614]"
      ],
      "execution_count": 1271,
      "outputs": [
        {
          "output_type": "execute_result",
          "data": {
            "text/html": [
              "<div>\n",
              "<style scoped>\n",
              "    .dataframe tbody tr th:only-of-type {\n",
              "        vertical-align: middle;\n",
              "    }\n",
              "\n",
              "    .dataframe tbody tr th {\n",
              "        vertical-align: top;\n",
              "    }\n",
              "\n",
              "    .dataframe thead th {\n",
              "        text-align: right;\n",
              "    }\n",
              "</style>\n",
              "<table border=\"1\" class=\"dataframe\">\n",
              "  <thead>\n",
              "    <tr style=\"text-align: right;\">\n",
              "      <th></th>\n",
              "      <th>people_ID</th>\n",
              "      <th>deuresis</th>\n",
              "    </tr>\n",
              "  </thead>\n",
              "  <tbody>\n",
              "    <tr>\n",
              "      <th>4</th>\n",
              "      <td>2614</td>\n",
              "      <td>1.0</td>\n",
              "    </tr>\n",
              "  </tbody>\n",
              "</table>\n",
              "</div>"
            ],
            "text/plain": [
              "   people_ID  deuresis\n",
              "4       2614       1.0"
            ]
          },
          "metadata": {
            "tags": []
          },
          "execution_count": 1271
        }
      ]
    },
    {
      "cell_type": "code",
      "metadata": {
        "id": "tnOKVoNYRmn0",
        "colab_type": "code",
        "colab": {}
      },
      "source": [
        "final = final.drop(['key_0'],axis = 1)"
      ],
      "execution_count": 0,
      "outputs": []
    },
    {
      "cell_type": "code",
      "metadata": {
        "id": "DuxdiBfPRaU4",
        "colab_type": "code",
        "colab": {}
      },
      "source": [
        "final1 = pd.merge(lisst,final,on = final['people_ID'])"
      ],
      "execution_count": 0,
      "outputs": []
    },
    {
      "cell_type": "code",
      "metadata": {
        "id": "pxbxv20iRaZA",
        "colab_type": "code",
        "colab": {}
      },
      "source": [
        "final1 = final1.drop(columns = ['people_ID_x','people_ID_y'],axis = 1)"
      ],
      "execution_count": 0,
      "outputs": []
    },
    {
      "cell_type": "code",
      "metadata": {
        "id": "qgzf7ooARaYD",
        "colab_type": "code",
        "colab": {
          "base_uri": "https://localhost:8080/",
          "height": 34
        },
        "outputId": "8c47f745-49bc-4be8-bc15-4c36a9136b30"
      },
      "source": [
        "final1.columns"
      ],
      "execution_count": 1275,
      "outputs": [
        {
          "output_type": "execute_result",
          "data": {
            "text/plain": [
              "Index(['key_0', 'deuresis', 'Infect_Prob'], dtype='object')"
            ]
          },
          "metadata": {
            "tags": []
          },
          "execution_count": 1275
        }
      ]
    },
    {
      "cell_type": "code",
      "metadata": {
        "id": "59FvaYk6RuOm",
        "colab_type": "code",
        "colab": {}
      },
      "source": [
        "final1.columns = ['people_ID','diuresis','Infect_prob']"
      ],
      "execution_count": 0,
      "outputs": []
    },
    {
      "cell_type": "code",
      "metadata": {
        "id": "Xzrc4yFKRuSw",
        "colab_type": "code",
        "colab": {
          "base_uri": "https://localhost:8080/",
          "height": 419
        },
        "outputId": "4db5be1a-8e9f-4c5a-c578-5fd8406c9e6e"
      },
      "source": [
        "final1"
      ],
      "execution_count": 1277,
      "outputs": [
        {
          "output_type": "execute_result",
          "data": {
            "text/html": [
              "<div>\n",
              "<style scoped>\n",
              "    .dataframe tbody tr th:only-of-type {\n",
              "        vertical-align: middle;\n",
              "    }\n",
              "\n",
              "    .dataframe tbody tr th {\n",
              "        vertical-align: top;\n",
              "    }\n",
              "\n",
              "    .dataframe thead th {\n",
              "        text-align: right;\n",
              "    }\n",
              "</style>\n",
              "<table border=\"1\" class=\"dataframe\">\n",
              "  <thead>\n",
              "    <tr style=\"text-align: right;\">\n",
              "      <th></th>\n",
              "      <th>people_ID</th>\n",
              "      <th>diuresis</th>\n",
              "      <th>Infect_prob</th>\n",
              "    </tr>\n",
              "  </thead>\n",
              "  <tbody>\n",
              "    <tr>\n",
              "      <th>0</th>\n",
              "      <td>2614</td>\n",
              "      <td>1.0</td>\n",
              "      <td>45.135016</td>\n",
              "    </tr>\n",
              "    <tr>\n",
              "      <th>1</th>\n",
              "      <td>2799</td>\n",
              "      <td>1.0</td>\n",
              "      <td>48.500974</td>\n",
              "    </tr>\n",
              "    <tr>\n",
              "      <th>2</th>\n",
              "      <td>13168</td>\n",
              "      <td>1.0</td>\n",
              "      <td>47.584272</td>\n",
              "    </tr>\n",
              "    <tr>\n",
              "      <th>3</th>\n",
              "      <td>9158</td>\n",
              "      <td>1.0</td>\n",
              "      <td>46.448181</td>\n",
              "    </tr>\n",
              "    <tr>\n",
              "      <th>4</th>\n",
              "      <td>15684</td>\n",
              "      <td>1.0</td>\n",
              "      <td>46.941625</td>\n",
              "    </tr>\n",
              "    <tr>\n",
              "      <th>...</th>\n",
              "      <td>...</td>\n",
              "      <td>...</td>\n",
              "      <td>...</td>\n",
              "    </tr>\n",
              "    <tr>\n",
              "      <th>10709</th>\n",
              "      <td>2927</td>\n",
              "      <td>123.0</td>\n",
              "      <td>49.325798</td>\n",
              "    </tr>\n",
              "    <tr>\n",
              "      <th>10710</th>\n",
              "      <td>9176</td>\n",
              "      <td>123.0</td>\n",
              "      <td>51.629076</td>\n",
              "    </tr>\n",
              "    <tr>\n",
              "      <th>10711</th>\n",
              "      <td>13245</td>\n",
              "      <td>123.0</td>\n",
              "      <td>50.463074</td>\n",
              "    </tr>\n",
              "    <tr>\n",
              "      <th>10712</th>\n",
              "      <td>10062</td>\n",
              "      <td>123.0</td>\n",
              "      <td>62.787702</td>\n",
              "    </tr>\n",
              "    <tr>\n",
              "      <th>10713</th>\n",
              "      <td>3784</td>\n",
              "      <td>123.0</td>\n",
              "      <td>56.044262</td>\n",
              "    </tr>\n",
              "  </tbody>\n",
              "</table>\n",
              "<p>10714 rows × 3 columns</p>\n",
              "</div>"
            ],
            "text/plain": [
              "       people_ID  diuresis  Infect_prob\n",
              "0           2614       1.0    45.135016\n",
              "1           2799       1.0    48.500974\n",
              "2          13168       1.0    47.584272\n",
              "3           9158       1.0    46.448181\n",
              "4          15684       1.0    46.941625\n",
              "...          ...       ...          ...\n",
              "10709       2927     123.0    49.325798\n",
              "10710       9176     123.0    51.629076\n",
              "10711      13245     123.0    50.463074\n",
              "10712      10062     123.0    62.787702\n",
              "10713       3784     123.0    56.044262\n",
              "\n",
              "[10714 rows x 3 columns]"
            ]
          },
          "metadata": {
            "tags": []
          },
          "execution_count": 1277
        }
      ]
    },
    {
      "cell_type": "code",
      "metadata": {
        "id": "-f16rmjeRuRK",
        "colab_type": "code",
        "colab": {}
      },
      "source": [
        "test = final1['Infect_prob']\n",
        "train = final1.drop(['Infect_prob'],axis = 1)"
      ],
      "execution_count": 0,
      "outputs": []
    },
    {
      "cell_type": "code",
      "metadata": {
        "id": "C_ilc6u4TBEy",
        "colab_type": "code",
        "colab": {
          "base_uri": "https://localhost:8080/",
          "height": 68
        },
        "outputId": "7a8b1cbc-17ea-428d-b001-88f9904c0dc1"
      },
      "source": [
        "model.fit(train,test)"
      ],
      "execution_count": 1279,
      "outputs": [
        {
          "output_type": "execute_result",
          "data": {
            "text/plain": [
              "KNeighborsRegressor(algorithm='auto', leaf_size=30, metric='minkowski',\n",
              "                    metric_params=None, n_jobs=None, n_neighbors=5, p=2,\n",
              "                    weights='uniform')"
            ]
          },
          "metadata": {
            "tags": []
          },
          "execution_count": 1279
        }
      ]
    },
    {
      "cell_type": "code",
      "metadata": {
        "id": "WiGnb8yxTBJ-",
        "colab_type": "code",
        "colab": {}
      },
      "source": [
        "test1 = pd.read_csv('/content/drive/My Drive/Test_dataset.csv')"
      ],
      "execution_count": 0,
      "outputs": []
    },
    {
      "cell_type": "code",
      "metadata": {
        "id": "Eg_Iuwh1UDqV",
        "colab_type": "code",
        "colab": {
          "base_uri": "https://localhost:8080/",
          "height": 136
        },
        "outputId": "a41b420c-ad08-4c51-a07f-f38ab26f802c"
      },
      "source": [
        "test1.columns"
      ],
      "execution_count": 1281,
      "outputs": [
        {
          "output_type": "execute_result",
          "data": {
            "text/plain": [
              "Index(['people_ID', 'Region', 'Gender', 'Designation', 'Name', 'Married',\n",
              "       'Children', 'Occupation', 'Mode_transport', 'cases/1M', 'Deaths/1M',\n",
              "       'comorbidity', 'Age', 'Coma score', 'Pulmonary score',\n",
              "       'cardiological pressure', 'Diuresis', 'Platelets', 'HBB', 'd-dimer',\n",
              "       'Heart rate', 'HDL cholesterol', 'Charlson Index', 'Blood Glucose',\n",
              "       'Insurance', 'salary', 'FT/month'],\n",
              "      dtype='object')"
            ]
          },
          "metadata": {
            "tags": []
          },
          "execution_count": 1281
        }
      ]
    },
    {
      "cell_type": "code",
      "metadata": {
        "id": "PpUD0boHTBII",
        "colab_type": "code",
        "colab": {}
      },
      "source": [
        "test2 = test1[['people_ID','Diuresis']].copy()"
      ],
      "execution_count": 0,
      "outputs": []
    },
    {
      "cell_type": "code",
      "metadata": {
        "id": "D_QlZbFNUr_a",
        "colab_type": "code",
        "colab": {}
      },
      "source": [
        "test2 = test2.sort_values(by=['Diuresis'])"
      ],
      "execution_count": 0,
      "outputs": []
    },
    {
      "cell_type": "code",
      "metadata": {
        "id": "WqbwOZH6U21M",
        "colab_type": "code",
        "colab": {
          "base_uri": "https://localhost:8080/",
          "height": 419
        },
        "outputId": "49374ce6-8149-49fb-d9d3-803790afac35"
      },
      "source": [
        "test2"
      ],
      "execution_count": 1284,
      "outputs": [
        {
          "output_type": "execute_result",
          "data": {
            "text/html": [
              "<div>\n",
              "<style scoped>\n",
              "    .dataframe tbody tr th:only-of-type {\n",
              "        vertical-align: middle;\n",
              "    }\n",
              "\n",
              "    .dataframe tbody tr th {\n",
              "        vertical-align: top;\n",
              "    }\n",
              "\n",
              "    .dataframe thead th {\n",
              "        text-align: right;\n",
              "    }\n",
              "</style>\n",
              "<table border=\"1\" class=\"dataframe\">\n",
              "  <thead>\n",
              "    <tr style=\"text-align: right;\">\n",
              "      <th></th>\n",
              "      <th>people_ID</th>\n",
              "      <th>Diuresis</th>\n",
              "    </tr>\n",
              "  </thead>\n",
              "  <tbody>\n",
              "    <tr>\n",
              "      <th>2537</th>\n",
              "      <td>7067</td>\n",
              "      <td>110</td>\n",
              "    </tr>\n",
              "    <tr>\n",
              "      <th>7146</th>\n",
              "      <td>12032</td>\n",
              "      <td>110</td>\n",
              "    </tr>\n",
              "    <tr>\n",
              "      <th>2536</th>\n",
              "      <td>6376</td>\n",
              "      <td>110</td>\n",
              "    </tr>\n",
              "    <tr>\n",
              "      <th>5746</th>\n",
              "      <td>17141</td>\n",
              "      <td>110</td>\n",
              "    </tr>\n",
              "    <tr>\n",
              "      <th>13551</th>\n",
              "      <td>11071</td>\n",
              "      <td>110</td>\n",
              "    </tr>\n",
              "    <tr>\n",
              "      <th>...</th>\n",
              "      <td>...</td>\n",
              "      <td>...</td>\n",
              "    </tr>\n",
              "    <tr>\n",
              "      <th>4187</th>\n",
              "      <td>6961</td>\n",
              "      <td>450</td>\n",
              "    </tr>\n",
              "    <tr>\n",
              "      <th>10124</th>\n",
              "      <td>20282</td>\n",
              "      <td>450</td>\n",
              "    </tr>\n",
              "    <tr>\n",
              "      <th>13034</th>\n",
              "      <td>23185</td>\n",
              "      <td>450</td>\n",
              "    </tr>\n",
              "    <tr>\n",
              "      <th>4406</th>\n",
              "      <td>19885</td>\n",
              "      <td>450</td>\n",
              "    </tr>\n",
              "    <tr>\n",
              "      <th>11763</th>\n",
              "      <td>8454</td>\n",
              "      <td>450</td>\n",
              "    </tr>\n",
              "  </tbody>\n",
              "</table>\n",
              "<p>14498 rows × 2 columns</p>\n",
              "</div>"
            ],
            "text/plain": [
              "       people_ID  Diuresis\n",
              "2537        7067       110\n",
              "7146       12032       110\n",
              "2536        6376       110\n",
              "5746       17141       110\n",
              "13551      11071       110\n",
              "...          ...       ...\n",
              "4187        6961       450\n",
              "10124      20282       450\n",
              "13034      23185       450\n",
              "4406       19885       450\n",
              "11763       8454       450\n",
              "\n",
              "[14498 rows x 2 columns]"
            ]
          },
          "metadata": {
            "tags": []
          },
          "execution_count": 1284
        }
      ]
    },
    {
      "cell_type": "code",
      "metadata": {
        "id": "RFAqx_D9VRVz",
        "colab_type": "code",
        "colab": {}
      },
      "source": [
        "test2.reset_index(drop = True, inplace = True)"
      ],
      "execution_count": 0,
      "outputs": []
    },
    {
      "cell_type": "code",
      "metadata": {
        "id": "l3HECiCLUcKJ",
        "colab_type": "code",
        "colab": {}
      },
      "source": [
        "test2.index +=1"
      ],
      "execution_count": 0,
      "outputs": []
    },
    {
      "cell_type": "code",
      "metadata": {
        "id": "F8xpippGTBDR",
        "colab_type": "code",
        "colab": {}
      },
      "source": [
        "k=1\n",
        "t = test2['Diuresis'][1] \n",
        "test2['Diuresis'][1] = 1\n",
        "for i in range(2,14499):\n",
        "  if(test2['Diuresis'][i]>t+10):\n",
        "    k=k+1\n",
        "    t = test2['Diuresis'][i]\n",
        "    test2['Diuresis'][i] = k\n",
        "  else:\n",
        "    test2['Diuresis'][i] = k"
      ],
      "execution_count": 0,
      "outputs": []
    },
    {
      "cell_type": "code",
      "metadata": {
        "id": "G2FiksMIRaTU",
        "colab_type": "code",
        "colab": {
          "base_uri": "https://localhost:8080/",
          "height": 419
        },
        "outputId": "d8724e79-e0fc-42c5-e974-915a11644208"
      },
      "source": [
        "test2"
      ],
      "execution_count": 1288,
      "outputs": [
        {
          "output_type": "execute_result",
          "data": {
            "text/html": [
              "<div>\n",
              "<style scoped>\n",
              "    .dataframe tbody tr th:only-of-type {\n",
              "        vertical-align: middle;\n",
              "    }\n",
              "\n",
              "    .dataframe tbody tr th {\n",
              "        vertical-align: top;\n",
              "    }\n",
              "\n",
              "    .dataframe thead th {\n",
              "        text-align: right;\n",
              "    }\n",
              "</style>\n",
              "<table border=\"1\" class=\"dataframe\">\n",
              "  <thead>\n",
              "    <tr style=\"text-align: right;\">\n",
              "      <th></th>\n",
              "      <th>people_ID</th>\n",
              "      <th>Diuresis</th>\n",
              "    </tr>\n",
              "  </thead>\n",
              "  <tbody>\n",
              "    <tr>\n",
              "      <th>1</th>\n",
              "      <td>7067</td>\n",
              "      <td>1</td>\n",
              "    </tr>\n",
              "    <tr>\n",
              "      <th>2</th>\n",
              "      <td>12032</td>\n",
              "      <td>1</td>\n",
              "    </tr>\n",
              "    <tr>\n",
              "      <th>3</th>\n",
              "      <td>6376</td>\n",
              "      <td>1</td>\n",
              "    </tr>\n",
              "    <tr>\n",
              "      <th>4</th>\n",
              "      <td>17141</td>\n",
              "      <td>1</td>\n",
              "    </tr>\n",
              "    <tr>\n",
              "      <th>5</th>\n",
              "      <td>11071</td>\n",
              "      <td>1</td>\n",
              "    </tr>\n",
              "    <tr>\n",
              "      <th>...</th>\n",
              "      <td>...</td>\n",
              "      <td>...</td>\n",
              "    </tr>\n",
              "    <tr>\n",
              "      <th>14494</th>\n",
              "      <td>6961</td>\n",
              "      <td>31</td>\n",
              "    </tr>\n",
              "    <tr>\n",
              "      <th>14495</th>\n",
              "      <td>20282</td>\n",
              "      <td>31</td>\n",
              "    </tr>\n",
              "    <tr>\n",
              "      <th>14496</th>\n",
              "      <td>23185</td>\n",
              "      <td>31</td>\n",
              "    </tr>\n",
              "    <tr>\n",
              "      <th>14497</th>\n",
              "      <td>19885</td>\n",
              "      <td>31</td>\n",
              "    </tr>\n",
              "    <tr>\n",
              "      <th>14498</th>\n",
              "      <td>8454</td>\n",
              "      <td>31</td>\n",
              "    </tr>\n",
              "  </tbody>\n",
              "</table>\n",
              "<p>14498 rows × 2 columns</p>\n",
              "</div>"
            ],
            "text/plain": [
              "       people_ID  Diuresis\n",
              "1           7067         1\n",
              "2          12032         1\n",
              "3           6376         1\n",
              "4          17141         1\n",
              "5          11071         1\n",
              "...          ...       ...\n",
              "14494       6961        31\n",
              "14495      20282        31\n",
              "14496      23185        31\n",
              "14497      19885        31\n",
              "14498       8454        31\n",
              "\n",
              "[14498 rows x 2 columns]"
            ]
          },
          "metadata": {
            "tags": []
          },
          "execution_count": 1288
        }
      ]
    },
    {
      "cell_type": "code",
      "metadata": {
        "id": "NyHlyQw1UXei",
        "colab_type": "code",
        "colab": {}
      },
      "source": [
        "predictions = model.predict(test2)"
      ],
      "execution_count": 0,
      "outputs": []
    },
    {
      "cell_type": "code",
      "metadata": {
        "id": "mKBOBfH8UXjz",
        "colab_type": "code",
        "colab": {
          "base_uri": "https://localhost:8080/",
          "height": 51
        },
        "outputId": "ae2722c9-c0b4-42e4-8199-48870b8db762"
      },
      "source": [
        "predictions"
      ],
      "execution_count": 1290,
      "outputs": [
        {
          "output_type": "execute_result",
          "data": {
            "text/plain": [
              "array([54.54372196, 53.32729897, 52.92575125, ..., 55.54935127,\n",
              "       53.22601105, 52.80706695])"
            ]
          },
          "metadata": {
            "tags": []
          },
          "execution_count": 1290
        }
      ]
    },
    {
      "cell_type": "code",
      "metadata": {
        "id": "xDXCpbrOUXit",
        "colab_type": "code",
        "colab": {}
      },
      "source": [
        "predictions = pd.DataFrame(predictions, columns = ['Infect_prob'])"
      ],
      "execution_count": 0,
      "outputs": []
    },
    {
      "cell_type": "code",
      "metadata": {
        "id": "ccjPHju_UXdb",
        "colab_type": "code",
        "colab": {}
      },
      "source": [
        "preds = pd.merge(predictions,test2, on = test2['people_ID'])"
      ],
      "execution_count": 0,
      "outputs": []
    },
    {
      "cell_type": "code",
      "metadata": {
        "id": "Q-0mE1_9Vn5f",
        "colab_type": "code",
        "colab": {
          "base_uri": "https://localhost:8080/",
          "height": 419
        },
        "outputId": "1ef3ccb0-a91d-4a79-9941-b022949a5c63"
      },
      "source": [
        "preds"
      ],
      "execution_count": 1293,
      "outputs": [
        {
          "output_type": "execute_result",
          "data": {
            "text/html": [
              "<div>\n",
              "<style scoped>\n",
              "    .dataframe tbody tr th:only-of-type {\n",
              "        vertical-align: middle;\n",
              "    }\n",
              "\n",
              "    .dataframe tbody tr th {\n",
              "        vertical-align: top;\n",
              "    }\n",
              "\n",
              "    .dataframe thead th {\n",
              "        text-align: right;\n",
              "    }\n",
              "</style>\n",
              "<table border=\"1\" class=\"dataframe\">\n",
              "  <thead>\n",
              "    <tr style=\"text-align: right;\">\n",
              "      <th></th>\n",
              "      <th>key_0</th>\n",
              "      <th>Infect_prob</th>\n",
              "      <th>people_ID</th>\n",
              "      <th>Diuresis</th>\n",
              "    </tr>\n",
              "  </thead>\n",
              "  <tbody>\n",
              "    <tr>\n",
              "      <th>0</th>\n",
              "      <td>7067</td>\n",
              "      <td>54.543722</td>\n",
              "      <td>7067</td>\n",
              "      <td>1</td>\n",
              "    </tr>\n",
              "    <tr>\n",
              "      <th>1</th>\n",
              "      <td>12032</td>\n",
              "      <td>53.327299</td>\n",
              "      <td>12032</td>\n",
              "      <td>1</td>\n",
              "    </tr>\n",
              "    <tr>\n",
              "      <th>2</th>\n",
              "      <td>6376</td>\n",
              "      <td>52.925751</td>\n",
              "      <td>6376</td>\n",
              "      <td>1</td>\n",
              "    </tr>\n",
              "    <tr>\n",
              "      <th>3</th>\n",
              "      <td>17141</td>\n",
              "      <td>54.715503</td>\n",
              "      <td>17141</td>\n",
              "      <td>1</td>\n",
              "    </tr>\n",
              "    <tr>\n",
              "      <th>4</th>\n",
              "      <td>11071</td>\n",
              "      <td>50.916439</td>\n",
              "      <td>11071</td>\n",
              "      <td>1</td>\n",
              "    </tr>\n",
              "    <tr>\n",
              "      <th>...</th>\n",
              "      <td>...</td>\n",
              "      <td>...</td>\n",
              "      <td>...</td>\n",
              "      <td>...</td>\n",
              "    </tr>\n",
              "    <tr>\n",
              "      <th>14493</th>\n",
              "      <td>6961</td>\n",
              "      <td>54.543722</td>\n",
              "      <td>6961</td>\n",
              "      <td>31</td>\n",
              "    </tr>\n",
              "    <tr>\n",
              "      <th>14494</th>\n",
              "      <td>20282</td>\n",
              "      <td>51.629104</td>\n",
              "      <td>20282</td>\n",
              "      <td>31</td>\n",
              "    </tr>\n",
              "    <tr>\n",
              "      <th>14495</th>\n",
              "      <td>23185</td>\n",
              "      <td>55.549351</td>\n",
              "      <td>23185</td>\n",
              "      <td>31</td>\n",
              "    </tr>\n",
              "    <tr>\n",
              "      <th>14496</th>\n",
              "      <td>19885</td>\n",
              "      <td>53.226011</td>\n",
              "      <td>19885</td>\n",
              "      <td>31</td>\n",
              "    </tr>\n",
              "    <tr>\n",
              "      <th>14497</th>\n",
              "      <td>8454</td>\n",
              "      <td>52.807067</td>\n",
              "      <td>8454</td>\n",
              "      <td>31</td>\n",
              "    </tr>\n",
              "  </tbody>\n",
              "</table>\n",
              "<p>14498 rows × 4 columns</p>\n",
              "</div>"
            ],
            "text/plain": [
              "       key_0  Infect_prob  people_ID  Diuresis\n",
              "0       7067    54.543722       7067         1\n",
              "1      12032    53.327299      12032         1\n",
              "2       6376    52.925751       6376         1\n",
              "3      17141    54.715503      17141         1\n",
              "4      11071    50.916439      11071         1\n",
              "...      ...          ...        ...       ...\n",
              "14493   6961    54.543722       6961        31\n",
              "14494  20282    51.629104      20282        31\n",
              "14495  23185    55.549351      23185        31\n",
              "14496  19885    53.226011      19885        31\n",
              "14497   8454    52.807067       8454        31\n",
              "\n",
              "[14498 rows x 4 columns]"
            ]
          },
          "metadata": {
            "tags": []
          },
          "execution_count": 1293
        }
      ]
    },
    {
      "cell_type": "code",
      "metadata": {
        "id": "yior8mCjWgKk",
        "colab_type": "code",
        "colab": {}
      },
      "source": [
        "preds = preds.drop(columns = ['key_0','Diuresis'],axis = 1)"
      ],
      "execution_count": 0,
      "outputs": []
    },
    {
      "cell_type": "code",
      "metadata": {
        "id": "eVmPM9DJWgRO",
        "colab_type": "code",
        "colab": {}
      },
      "source": [
        "preds.to_csv('27MarchTestInfectProb02.csv')"
      ],
      "execution_count": 0,
      "outputs": []
    }
  ]
}